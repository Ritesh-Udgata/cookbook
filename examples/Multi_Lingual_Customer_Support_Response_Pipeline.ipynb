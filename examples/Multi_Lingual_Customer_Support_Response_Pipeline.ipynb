{
  "cells": [
    {
      "cell_type": "markdown",
      "metadata": {
        "id": "FLGnrbqamw30"
      },
      "source": [
        "Requirements:\n",
        "1. Instill Core and the Instill SDK.\n",
        "2. Models from Hugging Face or OpenAI for language detection, sentiment analysis, and response generation.\n",
        "3. Language libraries, such as googletrans for fallback translation."
      ]
    },
    {
      "cell_type": "markdown",
      "metadata": {
        "id": "CLCDA-tLnatt"
      },
      "source": [
        "1. Install required libraries:"
      ]
    },
    {
      "cell_type": "code",
      "execution_count": null,
      "metadata": {
        "id": "Kt_yutMVnW7z"
      },
      "outputs": [],
      "source": [
        "pip install instill-sdk googletrans==4.0.0-rc1 transformers torch\n"
      ]
    },
    {
      "cell_type": "markdown",
      "metadata": {
        "id": "Zuvuqp-angT6"
      },
      "source": [
        "2. Set Up Instill SDK and Initialize API:"
      ]
    },
    {
      "cell_type": "code",
      "execution_count": null,
      "metadata": {
        "id": "4eRArD3TnjOj"
      },
      "outputs": [],
      "source": [
        "from instill_sdk import InstillCoreClient\n",
        "import googletrans\n",
        "\n",
        "# Initialize Instill API Client\n",
        "instill_client = InstillCoreClient(api_key=\"YOUR_API_KEY\")\n",
        "translator = googletrans.Translator()\n"
      ]
    },
    {
      "cell_type": "markdown",
      "metadata": {
        "id": "7ENPJOnYnnVj"
      },
      "source": [
        "3. Language Detection Function:\n",
        "\n",
        "This step identifies the language of the incoming customer message."
      ]
    },
    {
      "cell_type": "code",
      "execution_count": null,
      "metadata": {
        "id": "jsUJtYRHnru1"
      },
      "outputs": [],
      "source": [
        "def detect_language(text):\n",
        "    detection = instill_client.detect_language(text)\n",
        "    return detection[\"language_code\"]\n"
      ]
    },
    {
      "cell_type": "markdown",
      "metadata": {
        "id": "RrTUzaEwnvYo"
      },
      "source": [
        "4. Sentiment Analysis Function:\n",
        "\n",
        "Runs sentiment analysis on the input text."
      ]
    },
    {
      "cell_type": "code",
      "execution_count": null,
      "metadata": {
        "id": "5pLe0poonxSe"
      },
      "outputs": [],
      "source": [
        "def analyze_sentiment(text):\n",
        "    sentiment_response = instill_client.analyze_sentiment(text)\n",
        "    return sentiment_response[\"sentiment\"], sentiment_response[\"confidence\"]\n"
      ]
    },
    {
      "cell_type": "markdown",
      "metadata": {
        "id": "ElCeMLKcn1CJ"
      },
      "source": [
        "5. Generate Response Based on Sentiment and Language:\n",
        "\n",
        "This function generates a response using Instill's language model (like OpenAI’s GPT-3, Hugging Face models) and then translates it if needed.\n",
        "python"
      ]
    },
    {
      "cell_type": "code",
      "execution_count": null,
      "metadata": {
        "id": "hLGr-V_qn4hy"
      },
      "outputs": [],
      "source": [
        "def generate_response(text, language_code):\n",
        "    sentiment, confidence = analyze_sentiment(text)\n",
        "\n",
        "    # Prepare response template based on sentiment\n",
        "    if sentiment == \"positive\":\n",
        "        response_text = \"Thank you for your positive feedback! We're glad you enjoyed our service.\"\n",
        "    elif sentiment == \"negative\":\n",
        "        response_text = \"We're sorry to hear about your experience. We're here to help resolve any issues.\"\n",
        "    else:\n",
        "        response_text = \"Thank you for your feedback. Please let us know how we can assist further.\"\n",
        "\n",
        "    # Translate if the detected language is different from English\n",
        "    if language_code != \"en\":\n",
        "        response_text = translator.translate(response_text, dest=language_code).text\n",
        "\n",
        "    return response_text\n"
      ]
    },
    {
      "cell_type": "markdown",
      "metadata": {
        "id": "xgOazgQAn7mz"
      },
      "source": [
        "6. Integrate into a Main Function:"
      ]
    },
    {
      "cell_type": "code",
      "execution_count": null,
      "metadata": {
        "id": "a1YjXcRKn-N_"
      },
      "outputs": [],
      "source": [
        "def process_customer_feedback(text):\n",
        "    language = detect_language(text)\n",
        "    response = generate_response(text, language)\n",
        "    print(f\"Generated Response in {language}: {response}\")\n",
        "    return response\n"
      ]
    },
    {
      "cell_type": "markdown",
      "metadata": {
        "id": "SAhsTiBkoA8T"
      },
      "source": [
        "7. Run the Pipeline:"
      ]
    },
    {
      "cell_type": "code",
      "execution_count": null,
      "metadata": {
        "id": "LbEXQgKpoCzl"
      },
      "outputs": [],
      "source": [
        "feedback = \"El producto es excelente, me encanta!\"\n",
        "process_customer_feedback(feedback)\n"
      ]
    },
    {
      "cell_type": "markdown",
      "metadata": {
        "id": "NETBz7QqoJcY"
      },
      "source": [
        "Explanation:\n",
        "\n",
        "1. Detects the language of the customer’s message.\n",
        "2. Analyzes the sentiment to determine an appropriate response.\n",
        "3. Generates a response template based on sentiment.\n",
        "4. Translates the response if the detected language isn’t English.\n",
        "5. This pipeline can be deployed in an Instill Core environment for real-time customer support in multiple languages, handling positive, neutral, and negative sentiments.\n",
        "6. Instill AI’s pipeline management features would enable automating this process, integrating seamlessly with CRM systems like Salesforce or Zendesk."
      ]
    }
  ],
  "metadata": {
    "colab": {
      "provenance": []
    },
    "kernelspec": {
      "display_name": "Python 3",
      "name": "python3"
    },
    "language_info": {
      "name": "python"
    }
  },
  "nbformat": 4,
  "nbformat_minor": 0
}
